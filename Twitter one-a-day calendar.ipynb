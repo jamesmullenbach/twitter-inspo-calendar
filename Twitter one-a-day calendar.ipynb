{
 "cells": [
  {
   "cell_type": "markdown",
   "metadata": {},
   "source": [
    "# Twitter one-a-day calendar"
   ]
  },
  {
   "cell_type": "markdown",
   "metadata": {},
   "source": [
    "Here's a cute idea to spice up your days on the command line. Give yourself some regular inspiration, food for thought, or tips and tricks by dishing out a quote each time you open the terminal. This post will show you how you can do this really easily using Python and the Twitter API with zero prior knowledge.\n"
   ]
  },
  {
   "cell_type": "markdown",
   "metadata": {},
   "source": [
    "## 1: Set up your twitter API"
   ]
  },
  {
   "cell_type": "markdown",
   "metadata": {},
   "source": [
    "You're going to need to set up [a Twitter app](https://developer.twitter.com/en/docs/basics/getting-started#get-started-app) (and an account if you don't have one) to get your credentials for accessing the API. This step will probably take the longest, but it should just be a few minutes.\n",
    "\n",
    "Once you have them, for our purposes let's just store them in a JSON file `keys.json` like this:\n",
    "\n",
    "```\n",
    "{\n",
    "\"api_key\": \"api_key_here\",\n",
    "\"api_secret\": \"hello_im_the_api_secret\",\n",
    "\"token\": \"i_am_a_token\",\n",
    "\"token_secret\": \"token_secret_in_the_building\"\n",
    "}\n",
    "```\n",
    "This is maybe not robust security practice, but should be fine for our personal use. Don't do anything crazy like put that file on github.\n",
    "\n",
    "You will also need to run the below cell to install tweepy"
   ]
  },
  {
   "cell_type": "code",
   "execution_count": null,
   "metadata": {
    "collapsed": false,
    "scrolled": true
   },
   "outputs": [],
   "source": [
    "! pip install tweepy"
   ]
  },
  {
   "cell_type": "markdown",
   "metadata": {},
   "source": [
    "## 2: Scrape some tweets"
   ]
  },
  {
   "cell_type": "markdown",
   "metadata": {},
   "source": [
    "Where should we get our quotes? Twitter can be one great source. I like to use the account [CodeWisdom](https://twitter.com/codewisdom) as a source of inspiring, thoughtful quotes about programming and software development in general. One of the other beautiful things about Twitter is the vast amount of pedagogical accounts. The legendary [John D. Cook](https://www.johndcook.com/blog/) runs a number of them, like [UnixToolTip](https://twitter.com/UnixToolTip/). Inspired by the [spaced repetition](https://en.wikipedia.org/wiki/Spaced_repetition) learning technique, getting some quick tips, tricks, and use cases about unix every day can help you learn some new moves in the command line.\n",
    "\n",
    "Let's get all tweets from these two accounts since the beginning of time. Thanks to `tweepy`, this is really easy! First, do the boilerplate: load up keys and set up the API object:\n"
   ]
  },
  {
   "cell_type": "code",
   "execution_count": null,
   "metadata": {
    "collapsed": true
   },
   "outputs": [],
   "source": [
    "import json\n",
    "import tweepy\n",
    "\n",
    "def load_keys(key_file):\n",
    "    d = json.load(open(key_file, 'r'))\n",
    "    return d['api_key'],d['api_secret'],d['token'],d['token_secret']"
   ]
  },
  {
   "cell_type": "code",
   "execution_count": null,
   "metadata": {
    "collapsed": true
   },
   "outputs": [],
   "source": [
    "KEY_FILE = 'your-path-here'\n",
    "api_key, api_secret, token, token_secret = load_keys(KEY_FILE)\n",
    "auth = tweepy.OAuthHandler(api_key, api_secret)\n",
    "auth.set_access_token(token, token_secret)\n",
    "api = tweepy.API(auth)"
   ]
  },
  {
   "cell_type": "markdown",
   "metadata": {},
   "source": [
    "Now we'll use tweepy's `user_timeline` method to retrieve all the tweets for a user. Due to rate limits (I'm guessing), only up to 200 tweets can be returned at a time, so to get the whole timeline, we'll keep sending requests, using the last tweet ID we got as the `max_id` input, to let the API know where we want the new results to start. This makes the code a little non-trivial, but hey, we're not here just to mess around:"
   ]
  },
  {
   "cell_type": "code",
   "execution_count": null,
   "metadata": {
    "collapsed": true
   },
   "outputs": [],
   "source": [
    "def get_tweets(api, root_user):\n",
    "    tweets = set()\n",
    "    #get the first set of tweets (you really need a set, because for these accounts some might be repeated)\n",
    "    print(\"sending initial request...\")\n",
    "    results, oldest_id = retrieve_tweets(api, root_user)\n",
    "    tweets.update(results)\n",
    "\n",
    "    #now, go back through the remaining history\n",
    "    while len(results) > 0:\n",
    "        print(\"tweets so far: %d. sending request...\" % len(tweets))\n",
    "        results, oldest_id = retrieve_tweets(api, root_user, max_id=oldest_id-1)\n",
    "        tweets.update(results)\n",
    "\n",
    "    print(\"total tweets: %d\" % len(tweets))\n",
    "    return tweets"
   ]
  },
  {
   "cell_type": "markdown",
   "metadata": {},
   "source": [
    "We also should probably exclude tweets with links, retweets, and can limit to the most popular tweets if we like."
   ]
  },
  {
   "cell_type": "code",
   "execution_count": null,
   "metadata": {
    "collapsed": false
   },
   "outputs": [],
   "source": [
    "import html.parser as hparser\n",
    "import re\n",
    "def retrieve_tweets(api, root_user, max_id=None):\n",
    "    tweets = []\n",
    "    results = api.user_timeline(id=root_user, count=200, max_id=max_id)\n",
    "    for result in results:\n",
    "        #exclude tweets with media\n",
    "        if 'media' not in result.entities:\n",
    "            #exclude replies and RTs (RTs fall under user mentions), tweets with links, and unpopular tweets\n",
    "            if len(result.entities['user_mentions']) == 0 and len(result.entities['urls']) == 0 \\\n",
    "               and result.favorite_count > 30:\n",
    "                #get rid of some html artifacts and put each tweet on one line\n",
    "                tweets.append(re.sub('\\s+', ' ', hparser.unescape(result.text)))\n",
    "    oldest_id = results[-1].id if len(results) > 0 else None\n",
    "    return set(tweets), oldest_id"
   ]
  },
  {
   "cell_type": "markdown",
   "metadata": {},
   "source": [
    "Now we just have to use these methods to scrape and save our tweets to file:"
   ]
  },
  {
   "cell_type": "code",
   "execution_count": null,
   "metadata": {
    "collapsed": false,
    "scrolled": false
   },
   "outputs": [],
   "source": [
    "tweets = get_tweets(api, 'CodeWisdom')\n",
    "with open('/your/path/here', 'w') as outfile:\n",
    "    for tweet in data:\n",
    "        outfile.write(tweet + \"\\n\")"
   ]
  },
  {
   "cell_type": "markdown",
   "metadata": {},
   "source": [
    "## 3: Update your `.bashrc`"
   ]
  },
  {
   "cell_type": "markdown",
   "metadata": {},
   "source": [
    "Now that we have our adages, aphorisms, maxims, and quotes, just throw this line at the end of your shell startup script and we're done! Bonus points for adding a pipe into `cowsay`.\n",
    "\n",
    "```bash\n",
    "cat ~/tweets1 ~/tweets2 | shuf -n 1\n",
    "```"
   ]
  },
  {
   "cell_type": "code",
   "execution_count": null,
   "metadata": {
    "collapsed": true
   },
   "outputs": [],
   "source": [
    "! echo \"cat ~/codewisdom ~/unixtooltips | shuf -n 1 | cowsay\" >> ~/.bashrc"
   ]
  },
  {
   "cell_type": "markdown",
   "metadata": {},
   "source": [
    "<img src=\"wisdom.png\" />"
   ]
  },
  {
   "cell_type": "markdown",
   "metadata": {},
   "source": [
    "Ain't that right, Bill."
   ]
  }
 ],
 "metadata": {
  "kernelspec": {
   "display_name": "Python 3",
   "language": "python",
   "name": "python3"
  },
  "language_info": {
   "codemirror_mode": {
    "name": "ipython",
    "version": 3
   },
   "file_extension": ".py",
   "mimetype": "text/x-python",
   "name": "python",
   "nbconvert_exporter": "python",
   "pygments_lexer": "ipython3",
   "version": "3.6.5"
  }
 },
 "nbformat": 4,
 "nbformat_minor": 2
}
